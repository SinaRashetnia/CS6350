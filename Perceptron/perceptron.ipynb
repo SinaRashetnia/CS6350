{
 "cells": [
  {
   "cell_type": "code",
   "execution_count": 146,
   "id": "7807a846",
   "metadata": {},
   "outputs": [],
   "source": [
    "import numpy as np\n",
    "import random "
   ]
  },
  {
   "cell_type": "markdown",
   "id": "48a0a721",
   "metadata": {},
   "source": [
    "# Standard perceptron"
   ]
  },
  {
   "cell_type": "code",
   "execution_count": 147,
   "id": "29d0d70e",
   "metadata": {},
   "outputs": [],
   "source": [
    "train = []\n",
    "with open (\"/Users/sinarashetnia/Desktop/bank-note/train.csv\", \"r\") as file:\n",
    "    for line in file:\n",
    "        a = line.strip().split(\",\")\n",
    "        a = [1] + list(map(float,a))\n",
    "        train.append(a)\n",
    "\n",
    "train = np.array(train)"
   ]
  },
  {
   "cell_type": "code",
   "execution_count": 148,
   "id": "590e625c",
   "metadata": {},
   "outputs": [],
   "source": [
    "test = []\n",
    "with open (\"/Users/sinarashetnia/Desktop/bank-note/test.csv\", \"r\") as file:\n",
    "    for line in file:\n",
    "        a = line.strip().split(\",\")\n",
    "        a =[1] + list(map(float,a))\n",
    "        test.append(a)\n",
    "\n",
    "test = np.array(test)"
   ]
  },
  {
   "cell_type": "code",
   "execution_count": 149,
   "id": "fcee6e80",
   "metadata": {},
   "outputs": [],
   "source": [
    "def perceptron(D, r, T):\n",
    "    \"\"\"\n",
    "    X: train data; np.array\n",
    "    y: train labels; np.array\n",
    "    T: epoch; int\n",
    "    \"\"\"\n",
    "    w = np.zeros(len(D[0]) - 1)  # e.g. 6 - 1 = 5\n",
    "    n = len(D) # 872\n",
    "\n",
    "    for t in range(T):\n",
    "        np.random.shuffle(D)\n",
    "        X = D[:, :-1] # train\n",
    "        y = 2 * D[:, -1] - 1 # labels\n",
    "        for i in range(n):\n",
    "            if y[i] * np.dot(w, X[i]) <= 0: \n",
    "                w = w + r * y[i] * X[i]\n",
    "                \n",
    "    return w"
   ]
  },
  {
   "cell_type": "code",
   "execution_count": 150,
   "id": "ad83450d",
   "metadata": {},
   "outputs": [
    {
     "name": "stdout",
     "output_type": "stream",
     "text": [
      "w =  [ 5.6       -5.835832  -3.853792  -4.8553245 -0.1940776]\n",
      "Number of misclassified tests = 11\n",
      "error = 0.022\n"
     ]
    }
   ],
   "source": [
    "w = perceptron(train, 0.1, 10)\n",
    "print(\"w = \", w)\n",
    "\n",
    "n_error = 0\n",
    "\n",
    "for i in range(len(test)):\n",
    "    prediction = np.sign(w.dot(test[i][:-1]))\n",
    "    if prediction != 2 * test[i][-1] - 1:\n",
    "        n_error += 1\n",
    "\n",
    "print(\"Number of misclassified tests =\", n_error)\n",
    "print(\"error =\", n_error/len(test))"
   ]
  },
  {
   "cell_type": "markdown",
   "id": "70b131e1",
   "metadata": {},
   "source": [
    "# Voted perceptron\n"
   ]
  },
  {
   "cell_type": "code",
   "execution_count": 151,
   "id": "42dc21ca",
   "metadata": {},
   "outputs": [],
   "source": [
    "train = []\n",
    "with open (\"/Users/sinarashetnia/Desktop/bank-note/train.csv\", \"r\") as file:\n",
    "    for line in file:\n",
    "        a = line.strip().split(\",\")\n",
    "        a = [1] + list(map(float,a))\n",
    "        train.append(a)\n",
    "\n",
    "train = np.array(train)"
   ]
  },
  {
   "cell_type": "code",
   "execution_count": 152,
   "id": "cb430a75",
   "metadata": {},
   "outputs": [],
   "source": [
    "test = []\n",
    "with open (\"/Users/sinarashetnia/Desktop/bank-note/test.csv\", \"r\") as file:\n",
    "    for line in file:\n",
    "        a = line.strip().split(\",\")\n",
    "        a =[1] + list(map(float,a))\n",
    "        test.append(a)\n",
    "\n",
    "test = np.array(test)"
   ]
  },
  {
   "cell_type": "code",
   "execution_count": 153,
   "id": "93eb524b",
   "metadata": {},
   "outputs": [],
   "source": [
    "def voted_perceptron(D , r, T):\n",
    "    w = np.zeros(len(D[0] )- 1)\n",
    "    m = 0\n",
    "    w_list = [w]\n",
    "    c = []\n",
    "    for t in range(T):\n",
    "        np.random.shuffle(D)\n",
    "        X = D[:,:-1]\n",
    "        y = 2* D[:,-1] -1\n",
    "        for i in range(len(D)):\n",
    "            if y[i] * w.dot(X[i]) <= 0:\n",
    "                w = w + r*y[i]*X[i]\n",
    "                m = m+1\n",
    "                c.append(1)\n",
    "                w_list.append(w)\n",
    "            else:\n",
    "                c[-1] += 1 \n",
    "            \n",
    "    return c, w_list[1:]  "
   ]
  },
  {
   "cell_type": "code",
   "execution_count": 154,
   "id": "5e3d6011",
   "metadata": {},
   "outputs": [],
   "source": [
    "c, w_list = voted_perceptron(train , 0.1, 10)"
   ]
  },
  {
   "cell_type": "code",
   "execution_count": 155,
   "id": "f5db60bc",
   "metadata": {},
   "outputs": [
    {
     "data": {
      "text/plain": [
       "(244, 244)"
      ]
     },
     "execution_count": 155,
     "metadata": {},
     "output_type": "execute_result"
    }
   ],
   "source": [
    "len(w_list), len(c)"
   ]
  },
  {
   "cell_type": "code",
   "execution_count": 156,
   "id": "21bbd763",
   "metadata": {},
   "outputs": [],
   "source": [
    "def prediction(w, c, x):\n",
    "    a = sum([c[i] * np.sign(w[i].dot(x)) for i in range(len(c))])\n",
    "    return np.sign(a)\n",
    "    "
   ]
  },
  {
   "cell_type": "code",
   "execution_count": 159,
   "id": "7086d763",
   "metadata": {},
   "outputs": [
    {
     "name": "stdout",
     "output_type": "stream",
     "text": [
      "6\n",
      "0.012\n"
     ]
    }
   ],
   "source": [
    "c , w = voted_perceptron(train , 0.1, 10)\n",
    "n_error= 0\n",
    "for i in range(len(test)):\n",
    "    if prediction(w,c,test[i][:-1]) != 2*test[i][-1] -1:\n",
    "        n_error += 1\n",
    "print(n_error)\n",
    "print(n_error/len(test))\n",
    "    "
   ]
  },
  {
   "cell_type": "markdown",
   "id": "21734d8d",
   "metadata": {},
   "source": [
    "# Average perceptron"
   ]
  },
  {
   "cell_type": "code",
   "execution_count": 160,
   "id": "1a052222",
   "metadata": {},
   "outputs": [],
   "source": [
    "train = []\n",
    "with open (\"/Users/sinarashetnia/Desktop/bank-note/train.csv\", \"r\") as file:\n",
    "    for line in file:\n",
    "        a = line.strip().split(\",\")\n",
    "        a = [1] + list(map(float,a))\n",
    "        train.append(a)\n",
    "\n",
    "train = np.array(train)"
   ]
  },
  {
   "cell_type": "code",
   "execution_count": 161,
   "id": "ff101738",
   "metadata": {},
   "outputs": [],
   "source": [
    "test = []\n",
    "with open (\"/Users/sinarashetnia/Desktop/bank-note/test.csv\", \"r\") as file:\n",
    "    for line in file:\n",
    "        a = line.strip().split(\",\")\n",
    "        a =[1] + list(map(float,a))\n",
    "        test.append(a)\n",
    "\n",
    "test = np.array(test)"
   ]
  },
  {
   "cell_type": "code",
   "execution_count": 162,
   "id": "b55425fb",
   "metadata": {},
   "outputs": [],
   "source": [
    "def average_perception(D , r, T):\n",
    "    w = np.zeros(len(D[0])- 1)\n",
    "    a = np.zeros(len(D[0])-1)\n",
    "    for t in range(T):\n",
    "        np.random.shuffle(D)\n",
    "        X = D[:,:-1]\n",
    "        y = 2* D[:,-1] -1\n",
    "        for i in range(len(D)):\n",
    "            if y[i] * w.dot(X[i]) <= 0:\n",
    "                w = w + r * y[i] * X[i]\n",
    "            \n",
    "            a = a + w\n",
    "            \n",
    "    return a"
   ]
  },
  {
   "cell_type": "code",
   "execution_count": 163,
   "id": "1f383744",
   "metadata": {},
   "outputs": [],
   "source": [
    "def prediction(a , x):\n",
    "    return np.sign(a.dot(x))"
   ]
  },
  {
   "cell_type": "code",
   "execution_count": 164,
   "id": "8b4b8bf7",
   "metadata": {},
   "outputs": [
    {
     "name": "stdout",
     "output_type": "stream",
     "text": [
      "[ 35876.7       -40842.7102658 -27206.796347  -27290.126584\n",
      "  -8679.5612663]\n",
      "7\n",
      "0.014\n"
     ]
    }
   ],
   "source": [
    "a = average_perception(train , 0.1, 10)\n",
    "print(a)\n",
    "n_error = 0\n",
    "for i in range(len(test)):\n",
    "    if prediction(a,test[i][:-1]) != 2*test[i][-1] -1:\n",
    "        n_error += 1\n",
    "print(n_error)\n",
    "print(n_error/len(test))"
   ]
  },
  {
   "cell_type": "code",
   "execution_count": null,
   "id": "67e10e33",
   "metadata": {},
   "outputs": [],
   "source": []
  },
  {
   "cell_type": "code",
   "execution_count": null,
   "id": "8aade07a",
   "metadata": {},
   "outputs": [],
   "source": []
  },
  {
   "cell_type": "code",
   "execution_count": null,
   "id": "1bd6c1d5",
   "metadata": {},
   "outputs": [],
   "source": []
  }
 ],
 "metadata": {
  "kernelspec": {
   "display_name": "Python 3 (ipykernel)",
   "language": "python",
   "name": "python3"
  },
  "language_info": {
   "codemirror_mode": {
    "name": "ipython",
    "version": 3
   },
   "file_extension": ".py",
   "mimetype": "text/x-python",
   "name": "python",
   "nbconvert_exporter": "python",
   "pygments_lexer": "ipython3",
   "version": "3.9.12"
  }
 },
 "nbformat": 4,
 "nbformat_minor": 5
}
