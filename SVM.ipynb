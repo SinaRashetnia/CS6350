{
 "cells": [
  {
   "cell_type": "code",
   "execution_count": 6,
   "id": "5a0e5bfc",
   "metadata": {},
   "outputs": [],
   "source": [
    "import numpy as np\n",
    "import pandas as pd \n",
    "import random \n",
    "import scipy.optimize\n",
    "from scipy.optimize import minimize"
   ]
  },
  {
   "cell_type": "code",
   "execution_count": 7,
   "id": "03b3fcae",
   "metadata": {},
   "outputs": [
    {
     "data": {
      "text/plain": [
       "(872, 6)"
      ]
     },
     "execution_count": 7,
     "metadata": {},
     "output_type": "execute_result"
    }
   ],
   "source": [
    "train = []\n",
    "with open (\"/Users/sinarashetnia/Desktop/bank-note/train.csv\", \"r\") as file:\n",
    "    for line in file:\n",
    "        a = line.strip().split(\",\")\n",
    "        a = [1] + list(map(float,a))\n",
    "        train.append(a)\n",
    "\n",
    "train = np.array(train)\n",
    "train.shape"
   ]
  },
  {
   "cell_type": "code",
   "execution_count": 8,
   "id": "d335d60b",
   "metadata": {},
   "outputs": [
    {
     "data": {
      "text/plain": [
       "(500, 6)"
      ]
     },
     "execution_count": 8,
     "metadata": {},
     "output_type": "execute_result"
    }
   ],
   "source": [
    "test = []\n",
    "with open (\"/Users/sinarashetnia/Desktop/bank-note/test.csv\", \"r\") as file:\n",
    "    for line in file:\n",
    "        a = line.strip().split(\",\")\n",
    "        a =[1] + list(map(float,a))\n",
    "        test.append(a)\n",
    "\n",
    "test = np.array(test)\n",
    "test.shape"
   ]
  },
  {
   "cell_type": "code",
   "execution_count": 9,
   "id": "7076eb7d",
   "metadata": {},
   "outputs": [],
   "source": [
    "def gamma(t, gamma_0, a):\n",
    "    k = gamma_0 / (1 + (gamma_0 / a) *t)\n",
    "    return k"
   ]
  },
  {
   "cell_type": "code",
   "execution_count": 10,
   "id": "4580001d",
   "metadata": {},
   "outputs": [],
   "source": [
    "def Stochastic_gradient_descent_SVM(s, T, c, gamma_0 , a):\n",
    "    w = np.zeros(len(s[0]) - 1)  # e.g. 6 - 1 = 5\n",
    "    n = len(s) # 872\n",
    "    for t in range(T):\n",
    "        np.random.shuffle(s)\n",
    "        X = s[:, :-1] # train\n",
    "        y = 2 * s[:, -1] - 1 # labels\n",
    "        for i in range(n):\n",
    "            if y[i] * np.dot(w, X[i]) <= 1:\n",
    "                w = w - gamma(t, gamma_0, a) * w + gamma(t, gamma_0, a) * c * n * y[i] * X[i]\n",
    "            else:\n",
    "                w[:-1] = (1 - gamma(t, gamma_0, a)) * w[:-1]\n",
    "    return w"
   ]
  },
  {
   "cell_type": "code",
   "execution_count": 11,
   "id": "713d10ed",
   "metadata": {},
   "outputs": [
    {
     "name": "stdout",
     "output_type": "stream",
     "text": [
      "w =  [ 18.39325078 -25.53238052 -12.66872759 -15.16315262 -13.67180468]\n",
      "\n",
      "Number of misclassified tests = 21\n",
      "error = 0.02408256880733945\n",
      "\n",
      "Number of misclassified train = 55\n",
      "error = 0.06307339449541284\n",
      "w =  [ 25.22301027 -36.24731611 -25.99962546 -35.35668999 -16.36151934]\n",
      "\n",
      "Number of misclassified tests = 40\n",
      "error = 0.045871559633027525\n",
      "\n",
      "Number of misclassified train = 98\n",
      "error = 0.11238532110091744\n",
      "w =  [ 25.96501278 -93.70383071 -40.680619     5.13814641 -45.47475932]\n",
      "\n",
      "Number of misclassified tests = 78\n",
      "error = 0.08944954128440367\n",
      "\n",
      "Number of misclassified train = 196\n",
      "error = 0.22477064220183487\n"
     ]
    }
   ],
   "source": [
    "c_0 = [100/872 , 500/872, 700/872]\n",
    "a_0 = [1]\n",
    "t = 100\n",
    "lr = []\n",
    "gamma_1 = [1]\n",
    "for c in c_0:\n",
    "    for gamma_0 in gamma_1:\n",
    "        for a in a_0:\n",
    "            w = Stochastic_gradient_descent_SVM(train, 100, gamma_0 , a , c)\n",
    "            print(\"w = \", w)\n",
    "            print()\n",
    "            n_error = 0\n",
    "\n",
    "            for i in range(len(test)):\n",
    "                prediction = np.sign(w.dot(test[i][:-1]))\n",
    "                if prediction != 2 * test[i][-1] - 1:\n",
    "                    n_error += 1\n",
    "\n",
    "            print(\"Number of misclassified tests =\", n_error)\n",
    "            print(\"error =\", n_error/len(train))\n",
    "            print()\n",
    "            for i in range(len(train)):\n",
    "                prediction = np.sign(w.dot(train[i][:-1]))\n",
    "                if prediction != 2 * train[i][-1] - 1:\n",
    "                    n_error += 1\n",
    "\n",
    "            print(\"Number of misclassified train =\", n_error)\n",
    "            print(\"error =\", n_error/len(train))"
   ]
  },
  {
   "cell_type": "code",
   "execution_count": 16,
   "id": "32f6af32",
   "metadata": {
    "scrolled": false
   },
   "outputs": [
    {
     "name": "stdout",
     "output_type": "stream",
     "text": [
      "w =  [ 15.34886327 -75.13211979 -33.33812419 -43.99885418 -13.5125053 ]\n",
      "\n",
      "Number of misclassified tests = 20\n",
      "error = 0.022935779816513763\n",
      "\n",
      "Number of misclassified train = 56\n",
      "error = 0.06422018348623854\n",
      "w =  [ 15.34886327 -75.13211979 -33.33812419 -43.99885418 -13.5125053 ]\n",
      "\n",
      "Number of misclassified tests = 20\n",
      "error = 0.022935779816513763\n",
      "\n",
      "Number of misclassified train = 56\n",
      "error = 0.06422018348623854\n",
      "w =  [ 15.34886327 -75.13211979 -33.33812419 -43.99885418 -13.5125053 ]\n",
      "\n",
      "Number of misclassified tests = 20\n",
      "error = 0.022935779816513763\n",
      "\n",
      "Number of misclassified train = 56\n",
      "error = 0.06422018348623854\n"
     ]
    }
   ],
   "source": [
    "c_0 = [100/872 , 500/872, 700/872]\n",
    "t = 100\n",
    "lr = []\n",
    "gamma_1 = [1]\n",
    "for c in c_0:\n",
    "    for gamma_0 in gamma_1:\n",
    "        w = Stochastic_gradient_descent_SVM(train, 100, gamma_0 , gamma_0 , c)\n",
    "        print(\"w = \", w)\n",
    "        print()\n",
    "        n_error = 0\n",
    "\n",
    "        for i in range(len(test)):\n",
    "            prediction = np.sign(w.dot(test[i][:-1]))\n",
    "            if prediction != 2 * test[i][-1] - 1:\n",
    "                n_error += 1\n",
    "\n",
    "        print(\"Number of misclassified tests =\", n_error)\n",
    "        print(\"error =\", n_error/len(train))\n",
    "        print()\n",
    "        for i in range(len(train)):\n",
    "            prediction = np.sign(w.dot(train[i][:-1]))\n",
    "            if prediction != 2 * train[i][-1] - 1:\n",
    "                n_error += 1\n",
    "\n",
    "        print(\"Number of misclassified train =\", n_error)\n",
    "        print(\"error =\", n_error/len(train))"
   ]
  },
  {
   "cell_type": "markdown",
   "id": "4fa0933b",
   "metadata": {},
   "source": [
    "# Dual SVM"
   ]
  },
  {
   "cell_type": "code",
   "execution_count": 1,
   "id": "c38363e6",
   "metadata": {},
   "outputs": [],
   "source": [
    "import numpy as np\n",
    "import pandas as pd \n",
    "import random \n",
    "import scipy.optimize\n",
    "from scipy.optimize import minimize"
   ]
  },
  {
   "cell_type": "code",
   "execution_count": 2,
   "id": "5a9623e7",
   "metadata": {},
   "outputs": [
    {
     "data": {
      "text/plain": [
       "(872, 6)"
      ]
     },
     "execution_count": 2,
     "metadata": {},
     "output_type": "execute_result"
    }
   ],
   "source": [
    "train = []\n",
    "with open (\"/Users/sinarashetnia/Desktop/bank-note/train.csv\", \"r\") as file:\n",
    "    for line in file:\n",
    "        a = line.strip().split(\",\")\n",
    "        a = [1] + list(map(float,a))\n",
    "        train.append(a)\n",
    "\n",
    "train = np.array(train)\n",
    "train.shape"
   ]
  },
  {
   "cell_type": "code",
   "execution_count": 3,
   "id": "b4bfcd45",
   "metadata": {},
   "outputs": [
    {
     "data": {
      "text/plain": [
       "(500, 6)"
      ]
     },
     "execution_count": 3,
     "metadata": {},
     "output_type": "execute_result"
    }
   ],
   "source": [
    "test = []\n",
    "with open (\"/Users/sinarashetnia/Desktop/bank-note/test.csv\", \"r\") as file:\n",
    "    for line in file:\n",
    "        a = line.strip().split(\",\")\n",
    "        a =[1] + list(map(float,a))\n",
    "        test.append(a)\n",
    "\n",
    "test = np.array(test)\n",
    "test.shape"
   ]
  },
  {
   "cell_type": "code",
   "execution_count": 4,
   "id": "274114f1",
   "metadata": {},
   "outputs": [],
   "source": [
    "Y = 2 * train[:, -1] -1\n",
    "X = train[:, :-1]"
   ]
  },
  {
   "cell_type": "code",
   "execution_count": 5,
   "id": "8b0da531",
   "metadata": {},
   "outputs": [],
   "source": [
    "def SVM_dual_function(alpha):\n",
    "    Y0 = np.diag(Y)\n",
    "    return (alpha @ ((Y0 @ train[:, :-1])@(Y0 @ train[:, :-1]).T) @ alpha.T - sum(alpha))/2"
   ]
  },
  {
   "cell_type": "code",
   "execution_count": 6,
   "id": "fed48650",
   "metadata": {},
   "outputs": [],
   "source": [
    "n = len(train)\n",
    "m = len(test)\n",
    "\n",
    "def SVM_dual(C):\n",
    "    ans = minimize(SVM_dual_function, \n",
    "                   np.zeros(n), \n",
    "                   method='SLSQP', \n",
    "                   bounds=tuple([(0,C) for i in range(n)]), \n",
    "                   constraints={'type':'eq', \n",
    "                                'fun': lambda alpha: np.dot(alpha, train[:, -1])}).x\n",
    "    return ans"
   ]
  },
  {
   "cell_type": "code",
   "execution_count": 7,
   "id": "562b2015",
   "metadata": {},
   "outputs": [],
   "source": [
    "min_of_a = []\n",
    "C_0 = [100/873, 500/873, 700/873]\n",
    "\n",
    "for C in C_0:\n",
    "    Min = SVM_dual(C)\n",
    "    min_of_a.append(Min)\n"
   ]
  },
  {
   "cell_type": "code",
   "execution_count": 8,
   "id": "79d90c8e",
   "metadata": {},
   "outputs": [],
   "source": [
    "W = []\n",
    "for i in range(len(C_0)):\n",
    "    W.append(sum(min_of_a[i][j] * Y[j] * X[j] for j in range(n)))"
   ]
  },
  {
   "cell_type": "code",
   "execution_count": 9,
   "id": "4c90c942",
   "metadata": {},
   "outputs": [
    {
     "data": {
      "text/plain": [
       "[[-0.5000229813904926,\n",
       "  -0.5000145528353483,\n",
       "  -0.5002745109643261,\n",
       "  -0.5002745109643261,\n",
       "  -0.4999570861092749,\n",
       "  -0.5002745109643261,\n",
       "  -0.5002752610218322,\n",
       "  -0.5000145528353483],\n",
       " [-0.5012711847941582,\n",
       "  -0.501262785381771,\n",
       "  -0.49872402919098857,\n",
       "  -0.49872402919098857,\n",
       "  -0.4998045052745945,\n",
       "  -0.49872402919098857,\n",
       "  -0.4987247725532401,\n",
       "  -0.501262785381771],\n",
       " [-0.5012992842753452,\n",
       "  -0.5012908840471623,\n",
       "  -0.4987174431630096,\n",
       "  -0.4987174431630096,\n",
       "  -0.4999437644866944,\n",
       "  -0.4987174431630096,\n",
       "  -0.4987181853554188,\n",
       "  -0.5012908840471623]]"
      ]
     },
     "execution_count": 9,
     "metadata": {},
     "output_type": "execute_result"
    }
   ],
   "source": [
    "bias_1 = []\n",
    "bias_2 = []\n",
    "bias_3 = []\n",
    "B = [bias_1, bias_2, bias_3]\n",
    "\n",
    "for i in range(len(C_0)):\n",
    "    for j in range(n):\n",
    "        if 1e-6 < min_of_a[i][j] < C_0[i] - 1e-6: \n",
    "            B[i].append(Y[j]- W[i].dot(X[j]))\n",
    "\n",
    "B"
   ]
  },
  {
   "cell_type": "code",
   "execution_count": 12,
   "id": "3bbb1195",
   "metadata": {},
   "outputs": [
    {
     "name": "stdout",
     "output_type": "stream",
     "text": [
      "[-0.5001384958856594, -0.4998122651198126, -0.4998369164626014]\n"
     ]
    }
   ],
   "source": [
    "average_of_b = [np.mean(B[i]) for i in range(3)]\n",
    "print(average_of_b)"
   ]
  },
  {
   "cell_type": "code",
   "execution_count": 13,
   "id": "3b20edea",
   "metadata": {},
   "outputs": [],
   "source": [
    "def sgn(x):\n",
    "    if x >=0:\n",
    "        return 1\n",
    "    else:\n",
    "        return -1"
   ]
  },
  {
   "cell_type": "code",
   "execution_count": 14,
   "id": "b96875d1",
   "metadata": {},
   "outputs": [],
   "source": [
    "def predict(x, C):\n",
    "    for j in range(len(C_0)):\n",
    "        if C == C_0[j]:\n",
    "            l = j\n",
    "    return sgn((W[l].T @ x) + average_of_b[l])"
   ]
  },
  {
   "cell_type": "code",
   "execution_count": 15,
   "id": "c8066bfa",
   "metadata": {},
   "outputs": [],
   "source": [
    "final_train = np.ones((len(C_0), n))\n",
    "\n",
    "for j in range(len(C_0)):\n",
    "    for i in range(n):\n",
    "        final_train[j][i] = predict(X[i], C_0[j])"
   ]
  },
  {
   "cell_type": "code",
   "execution_count": 16,
   "id": "a7ca4b04",
   "metadata": {},
   "outputs": [
    {
     "name": "stdout",
     "output_type": "stream",
     "text": [
      "Train error = [0.44610092 0.44610092 0.44610092]\n",
      "Number of missclassified train examples: [389.0, 389.0, 389.0]\n"
     ]
    }
   ],
   "source": [
    "c = np.zeros(len(C_0))\n",
    "\n",
    "for j in range(len(C_0)):\n",
    "    for i in range(n):\n",
    "        if final_train[j][i] != Y[i]:\n",
    "            c[j] = c[j] + 1\n",
    "print(\"Train error =\", c/len(X))\n",
    "print(\"Number of missclassified train examples:\", list(c))"
   ]
  },
  {
   "cell_type": "code",
   "execution_count": 17,
   "id": "476baca2",
   "metadata": {},
   "outputs": [],
   "source": [
    "final_test = np.ones((len(C_0), m))\n",
    "\n",
    "for j in range(len(C_0)):\n",
    "    for i in range(m):\n",
    "        final_test[j][i] = predict(test[i][:-1], C_0[j])"
   ]
  },
  {
   "cell_type": "code",
   "execution_count": 18,
   "id": "18f462a8",
   "metadata": {},
   "outputs": [
    {
     "name": "stdout",
     "output_type": "stream",
     "text": [
      "Train error = [1. 1. 1.]\n",
      "Number of missclassified test examples: [500.0, 500.0, 500.0]\n"
     ]
    }
   ],
   "source": [
    "f = np.zeros(len(C_0))\n",
    "\n",
    "for j in range(len(C_0)):\n",
    "    for i in range(m):\n",
    "        if final_test[j][i] != test[i][-1]:\n",
    "            f[j] = f[j] + 1\n",
    "print(\"Train error =\", f/len(test))\n",
    "print(\"Number of missclassified test examples:\", list(f))"
   ]
  },
  {
   "cell_type": "code",
   "execution_count": null,
   "id": "e1efd750",
   "metadata": {},
   "outputs": [],
   "source": []
  }
 ],
 "metadata": {
  "kernelspec": {
   "display_name": "Python 3 (ipykernel)",
   "language": "python",
   "name": "python3"
  },
  "language_info": {
   "codemirror_mode": {
    "name": "ipython",
    "version": 3
   },
   "file_extension": ".py",
   "mimetype": "text/x-python",
   "name": "python",
   "nbconvert_exporter": "python",
   "pygments_lexer": "ipython3",
   "version": "3.9.12"
  }
 },
 "nbformat": 4,
 "nbformat_minor": 5
}
